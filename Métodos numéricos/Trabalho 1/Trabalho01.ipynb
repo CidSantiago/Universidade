{
 "cells": [
  {
   "cell_type": "markdown",
   "metadata": {},
   "source": [
    "# Departamento de Engenharia de Teleinformática\n",
    "\n",
    "# Computação Numérica / Métodos Numéricos\n",
    "\n",
    "# Tarcisio Ferreira Maciel, Dr.-Ing. (Professor: [maciel@ufc.br](mailto:maciel@ufc.br))\n",
    "\n",
    "# Darlan Cavalcante Moreira, M.Sc. (Colaborador: [darlan@gtel.ufc.br](mailto:darlan@gtel.ufc.br))"
   ]
  },
  {
   "cell_type": "markdown",
   "metadata": {},
   "source": [
    "## Identificação do aluno\n",
    "\n",
    "Nome: Caio Cid Santiago Barbosa\n",
    "\n",
    "Matrícula: 378596"
   ]
  },
  {
   "cell_type": "markdown",
   "metadata": {},
   "source": [
    "## Instruções\n",
    "\n",
    "As questões abaixo devem ser resolvidas aqui mesmo no **Jupyter Notebook** e podem envolver tanto soluções escritas em markdown (veja sintaxe para markdown [aqui](https://daringfireball.net/projects/markdown/basics)), como soluções em código. A questão 0 abaixo serve de exemplo de como as questões devem ser resolvidas.\n",
    "\n",
    "<div class=\"alert alert-warning\">\n",
    "**Dica:** em células markdown vocês podem usar dois espaços para criar uma quebra de linha.\n",
    "</div>"
   ]
  },
  {
   "cell_type": "markdown",
   "metadata": {},
   "source": [
    "## Questão 0\n",
    "\n",
    "Para entender como as questões devem ser resolvidas, faça:\n",
    "\n",
    "1. Em que país estamos?\n",
    "2. Implemente uma função que retorne o dobro da entrada\n"
   ]
  },
  {
   "cell_type": "markdown",
   "metadata": {},
   "source": [
    "## Solução de 0\n",
    "\n",
    "<!-- Não apague o div -->\n",
    "<div class=\"solucao alert alert-success\">\n",
    "\n",
    "Estamos no Brasil.\n",
    "\n",
    "<!-- Não apague o div -->\n",
    "</div>"
   ]
  },
  {
   "cell_type": "code",
   "execution_count": 1,
   "metadata": {
    "collapsed": true
   },
   "outputs": [],
   "source": [
    "# Solução de 2: Implementação em python\n",
    "def dobro(x):\n",
    "    return 2 * x"
   ]
  },
  {
   "cell_type": "markdown",
   "metadata": {},
   "source": [
    "----"
   ]
  },
  {
   "cell_type": "markdown",
   "metadata": {},
   "source": [
    "## Questão 1\n",
    "Escreva um programa em C/C++11 e uma **função** equivalente em Python 3.X que leia um número de ponto flutuante de 32 ou 64 bits e que imprima esse os bits desse número no formato IEEE-754 $b_S|b_1 b_2 \\ldots b_E|b_1 b_2 \\ldots b_M$ onde (S, E, M) é igual a (1, 8, 23) para precisão simples e (1, 11, 52) para precisão dupla. Note que nesta questão é suficiente imprimir a forma binária do número não sendo necessário implementar o processo de normalização."
   ]
  },
  {
   "cell_type": "markdown",
   "metadata": {},
   "source": [
    "## Solução em C/C++11:\n",
    "\n",
    "Edite e coloque o código na célula Markdown abaixo."
   ]
  },
  {
   "cell_type": "markdown",
   "metadata": {},
   "source": [
    "```C\n",
    "#include <stdio.h>\n",
    "#include <stdlib.h>\n",
    "#include <string.h>\n",
    "\n",
    "union FloatingPoint32IEEE754 {\n",
    "\tstruct {\n",
    "\t\tunsigned int mantissa : 23;\n",
    "\t\tunsigned int exponent : 8;\n",
    "\t\tunsigned int sign : 1;\n",
    "\t} raw;\n",
    "\tfloat f;\n",
    "} number32;\n",
    "\n",
    "union FloatingPoint64IEEE754 {\n",
    "\tstruct {\n",
    "\t\tunsigned long long int mantissa : 52;\n",
    "\t\tunsigned long long int exponent : 11;\n",
    "\t\tunsigned long long int sign : 1;\n",
    "\t} raw;\n",
    "\tdouble f;\n",
    "} number64;\n",
    "\n",
    "int main() {\n",
    "\tnumber32.f = -6.8;\n",
    "\tnumber64.f = -6.8;\n",
    "\tchar temp[10][65];\n",
    "\titoa(number32.raw.mantissa,temp[0],2);\n",
    "\titoa(number32.raw.exponent,temp[1],2);\n",
    "\titoa(number32.raw.sign,temp[2],2);\n",
    "\titoa(number64.raw.mantissa,temp[3],2);\n",
    "\titoa(number64.raw.exponent,temp[4],2);\n",
    "\titoa(number64.raw.sign,temp[5],2);\n",
    "\tprintf(\"Numero 32: %s | %s | %s\\n\", temp[2],temp[1],temp[0] ); \n",
    "\tprintf(\"Numero 64: %s | %s | %s\", temp[5],temp[4],temp[3]);\n",
    "\treturn 0;\n",
    "}\n",
    "```"
   ]
  },
  {
   "cell_type": "markdown",
   "metadata": {},
   "source": [
    "## Solução em Python 3.X:"
   ]
  },
  {
   "cell_type": "code",
   "execution_count": 1,
   "metadata": {
    "collapsed": false
   },
   "outputs": [
    {
     "name": "stdout",
     "output_type": "stream",
     "text": [
      "Numero -1, 32 bits: \n",
      "10111111100000000000000000000000\n",
      "Numero -1, 64 bits: \n",
      "1011111111110000000000000000000000000000000000000000000000000000\n",
      "Numero -354.46512, 32 bits: \n",
      "11000011101100010011101110001001\n",
      "Numero -354.46512, 64 bits: \n",
      "1100000001110110001001110111000100100001101010110100101101110011\n",
      "Numero 256.175, 32 bits: \n",
      "01000011100000000001011001100110\n",
      "Numero 256.175, 64 bits: \n",
      "0100000001110000000000101100110011001100110011001100110011001101\n",
      "Numero 1.45135, 64 bits: \n",
      "0011111111110111001110001011101011000111000100001100101100101001\n",
      "Numero 1.45, 32 bits: \n",
      "00111111101110011001100110011010\n",
      "Caso de teste para segundo argumento diferente de 32 ou 64:\n",
      "Erro! Quantidade de bits não identificada!\n"
     ]
    }
   ],
   "source": [
    "# Implemente sua solução aqui acompanhada de um exemplo de uso.\n",
    "import struct\n",
    "\n",
    "def NumToIEEE754 (num,tipo):\n",
    "\n",
    "    if tipo == 32:\n",
    "        \n",
    "        # Transformar o numero nos pacotes de bytes alocados na memoria\n",
    "        packed = struct.pack('!f', num)\n",
    "    \n",
    "        # Converte os Unicodes em binarios\n",
    "        bbins = [bin(i) for i in packed]\n",
    "    \n",
    "        # Retirar os '0b' que aparecem nos valores após a conversão em binario\n",
    "        bins = [s.replace('0b', '') for s in bbins]\n",
    "\n",
    "        # Preenche os binarios com 0 para completarem os 8 bits:\n",
    "        fullbins = [s.rjust(8, '0') for s in bins]\n",
    "   \n",
    "        # Nesse laço, verificamos se o numero é positivo ou negativo para acrescentarmos o bit de sinal\n",
    "        if num >= 0:\n",
    "            return ''.join(fullbins)\n",
    "        else:\n",
    "            fullbins[0].replace('0','1')\n",
    "            return ''.join(fullbins)\n",
    " \n",
    "    elif tipo == 64:\n",
    "       \n",
    "        # Transformar o numero nos pacotes de bytes alocados na memoria\n",
    "        packed = struct.pack('!d', num)\n",
    "    \n",
    "        # Converte os Unicodes em binarios\n",
    "        bbins = [bin(i) for i in packed]\n",
    "    \n",
    "        # Retirar os '0b' que aparecem nos valores após a conversão em binario\n",
    "        bins = [s.replace('0b', '') for s in bbins]\n",
    "\n",
    "        # Preenche os binarios com 0 para completarem os 8 bits:\n",
    "        fullbins = [s.rjust(8, '0') for s in bins]\n",
    "   \n",
    "        # Nesse laço, verificamos se o numero é positivo ou negativo para acrescentarmos o bit de sinal\n",
    "        if num >= 0:\n",
    "            return ''.join(fullbins)\n",
    "        else:\n",
    "            fullbins[0].replace('0','1')\n",
    "            return ''.join(fullbins)\n",
    "    \n",
    "    else:\n",
    "        return 'Erro! Quantidade de bits não identificada!'\n",
    "            \n",
    "a = NumToIEEE754 (-1,32)\n",
    "b = NumToIEEE754 (-1,64)\n",
    "c = NumToIEEE754 (-354.46512,32)\n",
    "d = NumToIEEE754 (-354.46512,64)\n",
    "e = NumToIEEE754 (256.175,32)\n",
    "f = NumToIEEE754 (256.175,64)\n",
    "g = NumToIEEE754 (1.45135,64)\n",
    "h = NumToIEEE754 (1.45,32)\n",
    "i = NumToIEEE754 (1, 50)\n",
    "\n",
    "print ('Numero -1, 32 bits: \\n'+a)\n",
    "print ('Numero -1, 64 bits: \\n'+b)\n",
    "print ('Numero -354.46512, 32 bits: \\n'+c)\n",
    "print ('Numero -354.46512, 64 bits: \\n'+d)\n",
    "print ('Numero 256.175, 32 bits: \\n'+e)\n",
    "print ('Numero 256.175, 64 bits: \\n'+f)\n",
    "print ('Numero 1.45135, 64 bits: \\n'+g)\n",
    "print ('Numero 1.45, 32 bits: \\n'+h)\n",
    "print ('Caso de teste para segundo argumento diferente de 32 ou 64:\\n'+i)"
   ]
  },
  {
   "cell_type": "markdown",
   "metadata": {},
   "source": [
    "## Questão 2\n",
    "Escreva uma **função** programa em Python 3.X que  **implemente** o processo de normalização para converter um número de ponto flutuante de 32 ou 64 bits para sua forma binária no padrão IEEE-754."
   ]
  },
  {
   "cell_type": "code",
   "execution_count": 3,
   "metadata": {
    "collapsed": false
   },
   "outputs": [
    {
     "name": "stdout",
     "output_type": "stream",
     "text": [
      "Numero -1, 32 bits: \n",
      "10111111100000000000000000000000\n",
      "Numero -1, 64 bits: \n",
      "1011111111110000000000000000000000000000000000000000000000000000\n",
      "Numero -354.46512, 32 bits: \n",
      "11000011101100010011101110001001\n",
      "Numero -354.46512, 64 bits: \n",
      "1100000001110110001001110111000100100001101010110100101101110011\n",
      "Numero 256.175, 32 bits: \n",
      "01000011100000000001011001100110\n",
      "Numero 256.175, 64 bits: \n",
      "0100000001110000000000101100110011001100110011001100110011001101\n",
      "Numero 1.45135, 64 bits: \n",
      "0011111111110111001110001011101011000111000100001100101100101001\n",
      "Numero 1.45, 32 bits: \n",
      "00111111101110011001100110011001\n",
      "Caso de teste para segundo argumento diferente de 32 ou 64:\n",
      "Tipo invalido!\n"
     ]
    }
   ],
   "source": [
    "# Implemente sua solução aqui acompanhada de um exemplo de uso.\n",
    "\n",
    "def NumToIEEE754(num,tipo):\n",
    "    \n",
    "    if tipo != 32 and tipo != 64:\n",
    "        return 'Tipo invalido!'\n",
    "        \n",
    "    #Verificando se é positivo ou negativo\n",
    "    if num>=0:\n",
    "        numlocal = num\n",
    "        sinal = '0'\n",
    "    else:\n",
    "        numlocal = -num\n",
    "        sinal = '1'\n",
    "    \n",
    "    #Descobrindo o exponte e a mantissa     \n",
    "    exp = 0\n",
    "    if numlocal>=2:            \n",
    "        while numlocal>=2:\n",
    "            numlocal = numlocal/2\n",
    "            exp = exp + 1\n",
    "        mantissadec = numlocal - 1\n",
    "    elif numlocal<2 and numlocal>=1:\n",
    "        mantissadec = numlocal - 1\n",
    "    else:\n",
    "        while numlocal<1:\n",
    "            numlocal = numlocal*2\n",
    "            exp = exp - 1\n",
    "        mantissadec = numlocal - 1\n",
    "        \n",
    "    #Convertendo a mantissa para binário\n",
    "    mantissabit = ''\n",
    "    if mantissadec == 0:\n",
    "        mantissabit = '0'\n",
    "    else:\n",
    "        if tipo == 32:\n",
    "            while mantissadec!=1 and len(mantissabit)<23 :\n",
    "                mantissadec = mantissadec * 2\n",
    "                if mantissadec>=1:\n",
    "                    mantissabit = mantissabit+'1'\n",
    "                    mantissadec = mantissadec-1\n",
    "                else:\n",
    "                    mantissabit = mantissabit+'0'\n",
    "        else:\n",
    "            while mantissadec!=1 and len(mantissabit)<52 :\n",
    "                mantissadec = mantissadec * 2\n",
    "                if mantissadec>=1:\n",
    "                    mantissabit = mantissabit+'1'\n",
    "                    mantissadec = mantissadec-1\n",
    "                else:\n",
    "                    mantissabit = mantissabit+'0'\n",
    "\n",
    "    #Convertendo o expoente pra binario e concatenando o resultado\n",
    "    if tipo == 32:\n",
    "        expbin = bin(exp+127).replace('0b','')\n",
    "        ieee754 = sinal+str(expbin).rjust(8,'0')+str(mantissabit).ljust(23,'0')\n",
    "        return ieee754\n",
    "    else:\n",
    "        expbin = bin(exp+1023).replace('0b','')\n",
    "        ieee754 = sinal+str(expbin).rjust(11,'0')+str(mantissabit).ljust(52,'0')\n",
    "        return ieee754\n",
    "\n",
    "a = NumToIEEE754 (-1,32)\n",
    "b = NumToIEEE754 (-1,64)\n",
    "c = NumToIEEE754 (-354.46512,32)\n",
    "d = NumToIEEE754 (-354.46512,64)\n",
    "e = NumToIEEE754 (256.175,32)\n",
    "f = NumToIEEE754 (256.175,64)\n",
    "g = NumToIEEE754 (1.45135,64)\n",
    "h = NumToIEEE754 (1.45,32)\n",
    "i = NumToIEEE754 (1, 50)\n",
    "\n",
    "print ('Numero -1, 32 bits: \\n'+a)\n",
    "print ('Numero -1, 64 bits: \\n'+b)\n",
    "print ('Numero -354.46512, 32 bits: \\n'+c)\n",
    "print ('Numero -354.46512, 64 bits: \\n'+d)\n",
    "print ('Numero 256.175, 32 bits: \\n'+e)\n",
    "print ('Numero 256.175, 64 bits: \\n'+f)\n",
    "print ('Numero 1.45135, 64 bits: \\n'+g)\n",
    "print ('Numero 1.45, 32 bits: \\n'+h)\n",
    "print ('Caso de teste para segundo argumento diferente de 32 ou 64:\\n'+i)"
   ]
  },
  {
   "cell_type": "markdown",
   "metadata": {},
   "source": [
    "## Questão 3\n",
    "Utilizando o contéudo da seção 3.4.1 do livro *Métodos Numéricos para Engenharia, 5a. Ed.* de *Steven Chapra & Raymond Canale* faça:\n",
    "\n",
    "1. Crie um conjunto de números hipotético em ponto flutuante para uma máquina que armazena informação usando palavras de 8 bits com (1, 3, 4) para (S, E, M). Considere que o expoente seja polarizado. Determine também o $\\varepsilon$ da máquina.\n",
    "\n",
    "2. Escreva uma **função** em Python 3.X que determine o epsilon de seu computador."
   ]
  },
  {
   "cell_type": "markdown",
   "metadata": {},
   "source": [
    "## Solução:\n",
    "\n",
    "<!-- Não apague o div -->\n",
    "<div class=\"solucao alert alert-success\">\n",
    "\n",
    "Primeiramente, calculamos o menor numero posssível. No caso, o menor numero possivel será:</br>\n",
    "$$[\\, 1 \\,|\\,  111 \\, |\\,  1000\\,]$$ </br>\n",
    "Que corresponde a:</br>\n",
    "$$-1* (1*2^2)+(1*2^1)+(1*2^0)+(1*2^-1) = -7.5$$ </br>\n",
    "\n",
    "\n",
    "<!-- Não apague o div -->\n",
    "</div>"
   ]
  },
  {
   "cell_type": "code",
   "execution_count": 9,
   "metadata": {
    "collapsed": false
   },
   "outputs": [
    {
     "name": "stdout",
     "output_type": "stream",
     "text": [
      "Epsilon da máquina:  2.220446049250313e-16\n"
     ]
    }
   ],
   "source": [
    "# Implemente sua solução de 2 aqui acompanhada de um exemplo de uso.\n",
    "\n",
    "# No caso, dividimos o numero por 2 até chegarmos no limite da máquina.\n",
    "# Pois quando chegamos no limite, o valor não será mais identificado.\n",
    "# Por isso, quando alcançarmos o limite dado, multiplicamos por 2 para\n",
    "# acharmos o valor solicitado, obtendo assim a resposta.\n",
    "\n",
    "def epsilon():\n",
    "    e = 1\n",
    "    while (1!= 1 + e):\n",
    "        e = e/2\n",
    "    return e*2\n",
    "    \n",
    "print(\"Epsilon da máquina: \",epsilon())"
   ]
  },
  {
   "cell_type": "markdown",
   "metadata": {},
   "source": [
    "## Questão 4\n",
    "Escreva funções em Python 3.X que calculem $e^{-5}$ usando\n",
    "\n",
    "1. $e^{-x} = 1 - x + \\dfrac{x^2}{2!} - \\dfrac{x^3}{3!} + \\ldots $,\n",
    "2. $e^{-x} = \\dfrac{1}{e^x} = \\dfrac{1}{1 + x + \\dfrac{x^2}{2!} + \\dfrac{x^3}{3!} + \\ldots} $,\n",
    "\n",
    "e compare com o valor exato. Considere os $N$ (fornecido como parâmetro) primeiros termos e apresente o erro relativo absoluto para cada termo que for adicionado."
   ]
  },
  {
   "cell_type": "code",
   "execution_count": 20,
   "metadata": {
    "collapsed": false,
    "scrolled": false
   },
   "outputs": [
    {
     "name": "stdout",
     "output_type": "stream",
     "text": [
      "Metodo 1:\n",
      "\n",
      "Valor: \n",
      " 0.006737946999086907 \n",
      "\n",
      "Erros Relativos Reais:\n",
      "\n",
      "Iteração:    1       Erro:  147.4131591025766\n",
      "Iteração:    2       Erro:  594.6526364103064\n",
      "Iteração:    3       Erro:  1260.5118523719013\n",
      "Iteração:    4       Erro:  1831.428962265111\n",
      "Iteração:    5       Erro:  2033.4970560311547\n",
      "Iteração:    6       Erro:  1831.428962265111\n",
      "Iteração:    7       Erro:  1389.3427196484438\n",
      "Iteração:    8       Erro:  911.2084817183812\n",
      "Iteração:    9       Erro:  526.6360191358842\n",
      "Iteração:    10       Erro:  272.16648133870774\n",
      "Iteração:    11       Erro:  127.23476889858826\n",
      "Iteração:    12       Erro:  54.31125393654629\n",
      "Iteração:    13       Erro:  21.332922244759768\n",
      "Iteração:    14       Erro:  7.7609916711271785\n",
      "Iteração:    15       Erro:  2.629691870261016\n",
      "Iteração:    16       Erro:  0.8338693102017155\n",
      "Iteração:    17       Erro:  0.24849355869288794\n",
      "Iteração:    18       Erro:  0.0698484615702308\n",
      "Iteração:    19       Erro:  0.01857987739174658\n",
      "Iteração:    20       Erro:  0.0046907381245633265\n",
      "Iteração:    21       Erro:  0.0011269157545140867\n",
      "Iteração:    22       Erro:  0.00025823993098060896\n",
      "Iteração:    23       Erro:  5.656817935905362e-05\n",
      "Iteração:    24       Erro:  1.1868366366954388e-05\n",
      "Iteração:    25       Erro:  2.389247325904947e-06\n",
      "Iteração:    26       Erro:  4.622754126411744e-07\n",
      "Iteração:    27       Erro:  8.609434476163914e-08\n",
      "Iteração:    28       Erro:  1.5455610260511264e-08\n",
      "Iteração:    29       Erro:  2.6783102791584505e-09\n",
      "Iteração:    30       Erro:  4.482277005336053e-10\n",
      "Iteração:    31       Erro:  7.286191983910543e-11\n",
      "Iteração:    32       Erro:  1.1184780666696735e-11\n",
      "Iteração:    33       Erro:  1.9475243328283277e-12\n",
      "Iteração:    34       Erro:  4.2222749763215775e-14\n",
      "Iteração:    35       Erro:  2.5037575698004476e-13\n",
      "Iteração:    36       Erro:  2.085391909036877e-13\n",
      "Iteração:    37       Erro:  2.143319462065679e-13\n",
      "Iteração:    38       Erro:  2.1355957883285053e-13\n",
      "Iteração:    39       Erro:  2.136883067284701e-13\n",
      "Iteração:    40       Erro:  2.136883067284701e-13\n",
      "\n",
      "Metodo 2:\n",
      "\n",
      "Valor: \n",
      " 0.006737946999085469 \n",
      "\n",
      "Erros Relativos Reais:\n",
      "\n",
      "Iteração:    1       Erro:  147.4131591025766\n",
      "Iteração:    2       Erro:  23.735526517096098\n",
      "Iteração:    3       Erro:  7.0223329244636\n",
      "Iteração:    4       Erro:  2.773215909387541\n",
      "Iteração:    5       Erro:  1.270182166004996\n",
      "Iteração:    6       Erro:  0.6234803183508834\n",
      "Iteração:    7       Erro:  0.3120200694193033\n",
      "Iteração:    8       Erro:  0.15389720146394248\n",
      "Iteração:    9       Erro:  0.0730691808307633\n",
      "Iteração:    10       Erro:  0.0328743851197011\n",
      "Iteração:    11       Erro:  0.013885433337545782\n",
      "Iteração:    12       Erro:  0.005482991167805822\n",
      "Iteração:    13       Erro:  0.002022935634334704\n",
      "Iteração:    14       Erro:  0.0006984775094422271\n",
      "Iteração:    15       Erro:  0.00022630487848758832\n",
      "Iteração:    16       Erro:  6.901300432190683e-05\n",
      "Iteração:    17       Erro:  1.98694384172234e-05\n",
      "Iteração:    18       Erro:  5.416367607032841e-06\n",
      "Iteração:    19       Erro:  1.4016998570100605e-06\n",
      "Iteração:    20       Erro:  3.452137013995593e-07\n",
      "Iteração:    21       Erro:  8.10925112851672e-08\n",
      "Iteração:    22       Erro:  1.8206534272126066e-08\n",
      "Iteração:    23       Erro:  3.914267869200552e-09\n",
      "Iteração:    24       Erro:  8.072534057976364e-10\n",
      "Iteração:    25       Erro:  1.5995869910371745e-10\n",
      "Iteração:    26       Erro:  3.049975776493366e-11\n",
      "Iteração:    27       Erro:  5.603782752110699e-12\n",
      "Iteração:    28       Erro:  9.935218983917663e-13\n",
      "Iteração:    29       Erro:  1.7030700590467827e-13\n",
      "Iteração:    30       Erro:  2.8320137036303265e-14\n",
      "Iteração:    31       Erro:  4.634204242304171e-15\n",
      "Iteração:    32       Erro:  7.723673737173618e-16\n",
      "Iteração:    33       Erro:  2.574557912391206e-16\n",
      "Iteração:    34       Erro:  2.574557912391206e-16\n"
     ]
    }
   ],
   "source": [
    "# Implemente sua solução aqui acompanhada de um exemplo de uso.\n",
    "\n",
    "import math\n",
    "\n",
    "# Função para obtermos o erro e resultado da primeira função.\n",
    "\n",
    "def expt1(x,N):\n",
    "    \n",
    "    result = 0\n",
    "    if N==1:\n",
    "        result = 1\n",
    "        ErroRelativoReal = abs((math.exp(-5) - result)/math.exp(-5))\n",
    "        return result , ErroRelativoReal\n",
    "    elif N<=0:\n",
    "        return 'Nao é possivel calcular sem variaveis!'\n",
    "    else:\n",
    "        result = 1\n",
    "        ErroRelativoReal = [abs((math.exp(-5) - result)/math.exp(-5))]\n",
    "        for i in range(1,N):\n",
    "            result = result+ x**i/math.factorial(i)\n",
    "            ErroRelativoReal.append(abs((math.exp(-5) - result)/math.exp(-5)))\n",
    "        return result, ErroRelativoReal\n",
    "\n",
    "# Função para obtermos o erro e resultado da primeira função.\n",
    "def expt2(x,N):\n",
    "    \n",
    "    result = 0\n",
    "    if N==1:\n",
    "        result = 1\n",
    "        ErroRelativoReal = abs((math.exp(-5) - result)/math.exp(-5))\n",
    "        return result , ErroRelativoReal\n",
    "    elif N<=0:\n",
    "        return 'Nao é possivel calcular sem variaveis!'\n",
    "    else:\n",
    "        result = 1\n",
    "        temp = 1\n",
    "        ErroRelativoReal = [abs((math.exp(-5) - result)/math.exp(-5))]\n",
    "        for i in range(1,N):\n",
    "            temp = temp + abs(x**i/math.factorial(i))\n",
    "            ErroRelativoReal.append(abs((math.exp(-5) - (temp**-1))/math.exp(-5)))\n",
    "        result = temp**-1\n",
    "        return result, ErroRelativoReal\n",
    "\n",
    "    \n",
    "a,b = expt1(-5,40)\n",
    "print('Metodo 1:\\n')\n",
    "print('Valor: \\n',a,'\\n')\n",
    "print('Erros Relativos Reais:\\n')\n",
    "for i in range(len(b)):\n",
    "    print('Iteração:   ',(i+1),'      Erro: ',b[i])\n",
    "\n",
    "c,d = expt2(-5,34)\n",
    "print('\\nMetodo 2:\\n')\n",
    "print('Valor: \\n',c,'\\n')\n",
    "print('Erros Relativos Reais:\\n')\n",
    "for i in range(len(d)):\n",
    "    print('Iteração:   ',(i+1),'      Erro: ',d[i])"
   ]
  },
  {
   "cell_type": "markdown",
   "metadata": {},
   "source": [
    "## Questão 5\n",
    "Calcule o polinômio $p(x) = x^3 - 7x^2 + 8x - 0,35 $ em $ x = 1,37 $. Use aritmética com 3 algarismos significativos e **truncamento**. Calcule o erro relativo absoluto comparado ao valor exato de $p(x)$. Repita o processo considerando $p(x)$ expresso como $p(x) = ((x - 7)x + 8)x - 0,35$. Apresente sua solução em texto e em Python 3.X."
   ]
  },
  {
   "cell_type": "markdown",
   "metadata": {},
   "source": [
    "## Solução:\n",
    "\n",
    "<!-- Não apague o div -->\n",
    "<div class=\"solucao alert alert-success\">\n",
    "\n",
    "No primeiro caso, devemos calcular cada passo do polinômio, substituindo e truncando para 3 algarismos significativos.\n",
    "$p(1.37) = (1.37)^3 - 7(1.37)^2 + 8(1.37) - 0,35 $. Resolvendo termo a termo, teremos que:<br/>\n",
    "<br/>\n",
    "**Termo 1**: $ 1.37 * 1.37 = 1.87 * 1.37 = 2.56 $<br/>\n",
    "**Termo 2**: $ 1.37 * 1.37 = 1.87 * -7 = -1.30*10^1 $<br/>\n",
    "**Termo 3**: $ 8 * 1.37 = 1.09*10^1 $<br/>\n",
    "**Termo 4**: $ -0.35 $<br/>\n",
    "<br/>\n",
    "Somando os termos, agora teremos:<br/>\n",
    "<br/> \n",
    "**Termo 1 + Termo 2** $= 2.56 - 1.30*10^1 = -1.04*10^1 =$ **Termo12**<br/>\n",
    "**Termo12 + Termo 3** $= -1.04*10^1 + 1.09*10^1 = 0.05 =$ **Termo123**<br/>\n",
    "**Termo123 + Termo4** $= 0.05 - 0.35 = 0.15 = p(1.37)$ truncado para 3.<br/>\n",
    "<br/>\n",
    "Assim, se o valor real é $ 0.04305300000000012 $, temos que o erro será: <br/>\n",
    "<br/>\n",
    "$Erro = \\left | \\frac{Calculado - Real}{Real} \\right | = \\left | \\frac{ 0.15 - 0.04305300000000012}{ 0.04305300000000012} \\right | = 2.4840777646156966$<br/>\n",
    "<br/>\n",
    "<br/>\n",
    "No segundo caso, devemos calcular no mesmo procedimento do primeiro. Porém, será sobre a equação manipulada.\n",
    "$p(1.37) = ((1.37 - 7)1.37 + 8)1.37 - 0,35 $. Resolvendo de dentro para fora, teremos que:<br/>\n",
    "<br/>\n",
    "**Passo 1**: $ 1.37 - 7 = -5.63 $<br/>\n",
    "**Passo 2**: $ -5.63*1.37 = -7.71 $<br/>\n",
    "**Passo 3**: $ -7.71 + 8 = 0.71 $<br/>\n",
    "**Passo 4**: $ 0.71*1.37 = 0.97 $<br/>\n",
    "**Passo 5**: $ 0.97 - 0.35 = 0.62$<br/>\n",
    "Assim, temos que, truncado para 3 algarismos significativos, $p(1.37) = 0.62$<br/>\n",
    "<br/>\n",
    "Com isso, se o valor real é $ 0.04305300000000012 $, temos que o erro será: <br/>\n",
    "<br/>\n",
    "$Erro = \\left | \\frac{Calculado - Real}{Real} \\right | = \\left | \\frac{ 0.62 - 0.04305300000000012}{ 0.04305300000000012} \\right | = 13.400854760411546$<br/>\n",
    "\n",
    "<!-- Não apague o div -->\n",
    "</div>"
   ]
  },
  {
   "cell_type": "code",
   "execution_count": 9,
   "metadata": {
    "collapsed": false
   },
   "outputs": [
    {
     "name": "stdout",
     "output_type": "stream",
     "text": [
      "\n",
      "Valor Real:\n",
      " 0.04305300000000012\n",
      "\n",
      "Resultado do cálculo do polinomio que não foi manipulado: \n",
      "0.05\n",
      "\n",
      "Erro Relativo Absoluto do polinomio que não foi manipulado: \n",
      "0.16135925487189892\n",
      "\n",
      "Resultado do cálculo do polinomio que FOI manipulado: \n",
      "0.047\n",
      "\n",
      "Erro Relativo Absoluto do polinomio que FOI manipulado: \n",
      "0.09167769957958494\n"
     ]
    }
   ],
   "source": [
    "# Implemente sua solução em Python 3.X. aqui.\n",
    "\n",
    "#Função para arredondar o valor para 3 algarismos significativos\n",
    "def round3(x):\n",
    "    return float(format(x,'.3g'))\n",
    "\n",
    "#Primeira funçao completa, sem manipulações. Arredondada para 3 algarismos significativos.\n",
    "def pcomp3(x):\n",
    "    result = round3(round3(x*x)*x)\n",
    "    result = round3(result+ round3(round3(x*x)*-7))\n",
    "    result = round3(result + round3(8*x))\n",
    "    result = round3(result - 0.35)\n",
    "    return result\n",
    "\n",
    "#Segunda funçao completa, COM manipulações. Arredondada para 3 algarismos significativos\n",
    "def pmani3(x):\n",
    "    result = round3(round3(round3(round3(round3(x-7)*x)+8)*x)-0.35)\n",
    "    return result\n",
    "\n",
    "\n",
    "valorreal = (1.37**3) -7*(1.37**2) + 8*1.37 - 0.35\n",
    "\n",
    "print(\"\\nValor Real:\\n\",valorreal)\n",
    "print(\"\\nResultado do cálculo do polinomio que não foi manipulado: \\n\"+str(pcomp3(1.37)))\n",
    "print(\"\\nErro Relativo Absoluto do polinomio que não foi manipulado: \\n\"+str(abs((pcomp3(1.37)-valorreal)/valorreal)))\n",
    "print(\"\\nResultado do cálculo do polinomio que FOI manipulado: \\n\"+str(pmani3(1.37)))\n",
    "print(\"\\nErro Relativo Absoluto do polinomio que FOI manipulado: \\n\"+str(abs((pmani3(1.37)-valorreal)/valorreal)))\n"
   ]
  },
  {
   "cell_type": "markdown",
   "metadata": {},
   "source": [
    "## Questão 6\n",
    "Escreva um programa em Python 3.X para determinar o número de termos necessários para aproximar $ \\cos(0.3\\pi) $ a partir da sua expansão em série de MacLaurin até 8 algarismos significativos."
   ]
  },
  {
   "cell_type": "markdown",
   "metadata": {},
   "source": [
    "## Solução:\n",
    "\n",
    "<!-- Não apague o div -->\n",
    "<div class=\"solucao alert alert-success\">\n",
    "\n",
    "Apresente a solução textual aqui.\n",
    "\n",
    "<!-- Não apague o div -->\n",
    "</div>"
   ]
  },
  {
   "cell_type": "code",
   "execution_count": 26,
   "metadata": {
    "collapsed": false
   },
   "outputs": [
    {
     "name": "stdout",
     "output_type": "stream",
     "text": [
      "Iteração  1 :  1.0\n",
      "Iteração  2 :  0.5558678\n",
      "Iteração  3 :  0.58874337\n",
      "Iteração  4 :  0.58776996\n",
      "Iteração  5 :  0.5877854\n",
      "Iteração  6 :  0.58778525\n",
      "Valor real  :  0.58778525\n",
      "\n",
      "Numero de iterações:  6\n"
     ]
    }
   ],
   "source": [
    "# Implemente sua solução aqui.\n",
    "import math\n",
    "\n",
    "# Termo da série de MacLaurin\n",
    "def mcl(x,i):\n",
    "    return (((-1)**i)*(x**(2*i)))/(math.factorial(2*i))\n",
    "\n",
    "#Função de aplicação da série de MacLaurin\n",
    "def CosMaclaurin8(x):\n",
    "    real = math.cos(x)\n",
    "    i = 0\n",
    "    calc = 0\n",
    "    while float(format(calc,'.8g')) != float(format(real,'.8g')):\n",
    "        calc = calc + mcl(x,i)\n",
    "        i = i+1\n",
    "        print(\"Iteração \",i,\": \",float(format(calc,'.8g')))\n",
    "    print(\"Valor real  : \",float(format(real,'.8g')))\n",
    "    return i\n",
    "\n",
    "\n",
    "print(\"\\nNumero de iterações: \",CosMaclaurin8(0.3*math.pi))"
   ]
  },
  {
   "cell_type": "markdown",
   "metadata": {},
   "source": [
    "## Questão 7\n",
    "A razão áurea pode ser definida como a razão que divide um segmento de tamanho $a + b$ de tal modo que a parte menor $a$ está para a parte maior $b$ na mesma proporção que a parte maior $b$ está para o todo $a + b$. Crie uma função ```Python GoldenSection(f, a, b, tol)``` em Python 3.X que implemente uma versão do método da bisseção que divida o intervalo segundo a razão áurea. Implemente também uma função ```Python Bissection(f, a, b, tol)``` que implemente o método da bisseção clássico e compare os dois métodos através de um exemplo de aplicação."
   ]
  },
  {
   "cell_type": "markdown",
   "metadata": {},
   "source": [
    "## Solução:\n",
    "\n",
    "<!-- Não apague o div -->\n",
    "<div class=\"solucao alert alert-success\">\n",
    "\n",
    "No exemplo de aplicação, utilizamos a função $p(x) = x^3 - 7x^2 + 8x - 0,35 $, dada na Questão 5. Percebemos que o metodo ```Python GoldenSection(f, a, b, tol)``` foi mais veloz que o metodo de bisseção normal, superando em 9 iterações a sua versão mais básica, dada uma precisão de 0.0000000001\n",
    "\n",
    "<!-- Não apague o div -->\n",
    "</div>"
   ]
  },
  {
   "cell_type": "code",
   "execution_count": 2,
   "metadata": {
    "collapsed": false
   },
   "outputs": [
    {
     "name": "stdout",
     "output_type": "stream",
     "text": [
      "\n",
      "Raiz Bisseção:  0.04555395062925527\n",
      "Iterações Bisseção:  37 \n",
      "\n",
      "Raiz GoldenSection:  0.04555395063644108\n",
      "Iterações GoldenSection:  28\n"
     ]
    }
   ],
   "source": [
    "# Implemente sua solução aqui.\n",
    "\n",
    "# Função usada para o teste! (Função retirada da questão 5) => x^3−7x^2+8x−0,35\n",
    "def f(x):\n",
    "    return ((x)**3)- 7*((x)**2)+ 8*(x) - 0.35\n",
    "\n",
    "# Implementação do Método de bisseção.\n",
    "def Bissection(f,a,b,tol):\n",
    "    an = a\n",
    "    bn = b\n",
    "    i = 1\n",
    "    xns = (an + bn)/2\n",
    "    \n",
    "    while abs(f(xns))>tol:\n",
    "        if f(an)*f(xns) < 0:\n",
    "            bn = xns\n",
    "        else:\n",
    "            an = xns\n",
    "        i = i + 1\n",
    "        xns = (an + bn)/2\n",
    "    return xns,i\n",
    "\n",
    "# Implementação do Método de bisseção conjunto com a razão áurea.\n",
    "def GoldenSection(f,a,b,tol):\n",
    "    an = a\n",
    "    bn = b\n",
    "    i = 1\n",
    "    k = (1 + 5**0.5)/2\n",
    "    yns = (an + bn*k)/(k+1)\n",
    "    zns = (an*k + bn)/(k+1)\n",
    "    if abs(f(yns))<abs(f(zns)):\n",
    "        xns = yns\n",
    "    else:\n",
    "        xns = zns\n",
    "    while abs(f(xns))>tol :\n",
    "        if f(an)*f(xns) < 0:\n",
    "            bn = xns\n",
    "        else:\n",
    "            an = xns\n",
    "        yns = (an + bn*k)/(k+1)\n",
    "        zns = (an*k + bn)/(k+1)\n",
    "        if abs(f(yns))<abs(f(zns)):\n",
    "            xns = yns\n",
    "        else:\n",
    "            xns = zns\n",
    "        i = i + 1\n",
    "    return xns,i\n",
    "\n",
    "raizbs, iteraçõesbs = Bissection(f,-2,1,0.0000000001)\n",
    "raizgbs, iteraçõesgbs = GoldenSection(f,-2,1,0.0000000001)\n",
    "\n",
    "\n",
    "print (\"\\nRaiz Bisseção: \",raizbs)\n",
    "print (\"Iterações Bisseção: \",iteraçõesbs,\"\\n\")\n",
    "print (\"Raiz GoldenSection: \",raizgbs)\n",
    "print (\"Iterações GoldenSection: \",iteraçõesgbs)"
   ]
  },
  {
   "cell_type": "markdown",
   "metadata": {},
   "source": [
    "## Questão 8\n",
    "A fim de atenuar a natureza frequentemente unilateral do método da falsa posição, implemente uma **função** em ```Python ModifiedRegulaFalsi(f, a, b, tol)``` em Python 3.X que divida por dois o valor de $f(x)$ no limite do intervalo que permanecer inalterado por três iterações consecutivas, substituindo assim a secante do método original por uma reta de menor inclinação (veja o exercício 3.18 do livro *Métodos Numéricos para Engenheiros e Cientistas* de *Amos Gilat & Vish Subramaniam*). Crie também uma função ```Python RegulaFalsi(f, a, b, tol)``` que implemente o método original. Compare os métodos através de um exemplo de aplicação."
   ]
  },
  {
   "cell_type": "markdown",
   "metadata": {},
   "source": [
    "## Solução:\n",
    "\n",
    "<!-- Não apague o div -->\n",
    "<div class=\"solucao alert alert-success\">\n",
    "\n",
    "Nessa questão, tambem foi utilizada a função $p(x) = x^3 - 7x^2 + 8x - 0,35 $ para comparar os métodos. Percebemos que o método ```Python ModifiedRegulaFalsi(f, a, b, tol)``` superou o método regula falsi bastante, dada uma precisão de 0.000001. Esse valor, diferente da questão passada, é mais discrepante.\n",
    "\n",
    "<!-- Não apague o div -->\n",
    "</div>"
   ]
  },
  {
   "cell_type": "code",
   "execution_count": 3,
   "metadata": {
    "collapsed": false
   },
   "outputs": [
    {
     "name": "stdout",
     "output_type": "stream",
     "text": [
      "\n",
      "Raiz Regula Falsi:  0.04555406502579462\n",
      "Iterações Regula Falsi:  51 \n",
      "\n",
      "Raiz Regula Falsi Modificado:  0.04555407441784137\n",
      "Iterações Regula Falsi Modificado:  35\n"
     ]
    }
   ],
   "source": [
    "# Implemente sua solução aqui com um exemplo de aplicação.\n",
    "\n",
    "# Função usada para o teste! (Função retirada da questão 5) => x^3−7x^2+8x−0,35\n",
    "def f(x):\n",
    "    return ((x)**3)- 7*((x)**2)+ 8*(x) - 0.35\n",
    "\n",
    "# Implementação do Método da Falsa posição\n",
    "def RegulaFalsi(f,a,b,tol):\n",
    "    if (f(a)*f(b))>0:\n",
    "        return print(\"Impossivel identificar a raiz no intervalo dado!\") \n",
    "    else:        \n",
    "        an = a\n",
    "        bn = b   \n",
    "        xns = (an*f(bn) - bn*f(an))/(f(bn)-f(an))\n",
    "        i = 1\n",
    "        while abs(f(xns))>tol:\n",
    "            if (f(an)*f(xns))<0:\n",
    "                bn = xns\n",
    "            else:\n",
    "                an = xns\n",
    "            i = i + 1\n",
    "            xns = (an*f(bn) - bn*f(an))/(f(bn)-f(an))\n",
    "        return xns,i\n",
    "\n",
    "# Implementação do Método da falsa posição modificado.\n",
    "def ModifiedRegulaFalsi(f,a,b,tol):\n",
    "    if (f(a)*f(b))>0:\n",
    "        return print(\"Impossivel identificar a raiz no intervalo dado!\") \n",
    "    else:    \n",
    "        an = a\n",
    "        bn = b\n",
    "        conta = 0\n",
    "        contb = 0    \n",
    "        xns = (an*f(bn) - bn*f(an))/(f(bn)-f(an))\n",
    "        i = 1\n",
    "        while abs(f(xns))>tol:\n",
    "            if f(an)*f(xns)<0:\n",
    "                bn = xns\n",
    "                conta = conta + 1\n",
    "                contb = 0\n",
    "            else:\n",
    "                an = xns\n",
    "                contb = contb + 1\n",
    "                conta = 0\n",
    "            if conta == 3:\n",
    "                xns = (an*f(bn) - bn*(f(an)/2))/(f(bn)-(f(an)/2))\n",
    "                conta = 0\n",
    "            elif contb == 3:\n",
    "                xns = (an*(f(bn)/2) - bn*f(an))/((f(bn)/2)-f(an))\n",
    "                contb = 0\n",
    "            else:\n",
    "                xns = (an*f(bn) - bn*f(an))/(f(bn)-f(an))\n",
    "            i = i + 1\n",
    "        return xns,i\n",
    "\n",
    "\n",
    "raizrf, iteraçoesrf = RegulaFalsi(f,-2,1,0.000001)\n",
    "raizmrf, iteraçoesmrf = ModifiedRegulaFalsi(f,-2,1,0.000001)\n",
    "\n",
    "print (\"\\nRaiz Regula Falsi: \",raizrf)\n",
    "print (\"Iterações Regula Falsi: \",iteraçoesrf,\"\\n\")\n",
    "print (\"Raiz Regula Falsi Modificado: \",raizmrf)\n",
    "print (\"Iterações Regula Falsi Modificado: \",iteraçoesmrf)"
   ]
  },
  {
   "cell_type": "markdown",
   "metadata": {},
   "source": [
    "## Questão 9\n",
    "Em vez de usar dois valores arbitrários para fazer uma estimativa da derivada, uma abordagem alternativa envolve utilizar uma pequena perturbação $\\delta x$ da variável independente $x$ para fazer\n",
    "$$f'(x_i) \\approxeq \\dfrac{f(x_i + \\delta x_i) - f(x_i)}{\\delta x_i} $$\n",
    "onde $\\delta$ é uma pequena fração de perturbação. Utilizando essa formulação, implemente uma função ```Python ModifiedSecant(f, x, delta, tol)``` em Python 3.X para o método da secante."
   ]
  },
  {
   "cell_type": "markdown",
   "metadata": {},
   "source": [
    "## Solução:\n",
    "\n",
    "<!-- Não apague o div -->\n",
    "<div class=\"solucao alert alert-success\">\n",
    "\n",
    "Com a implementação do metodo da secante modificado, percebemos a imensa semelhança que existe entre ele e o método de newton. Atraves dessa aproximação, conseguimos obter uma representação bastente proxima do método de Newton.\n",
    "\n",
    "<!-- Não apague o div -->\n",
    "</div>"
   ]
  },
  {
   "cell_type": "code",
   "execution_count": 4,
   "metadata": {
    "collapsed": false
   },
   "outputs": [
    {
     "name": "stdout",
     "output_type": "stream",
     "text": [
      "\n",
      "Raiz da função:  1.377727263572489\n",
      "Iterações:  38\n"
     ]
    }
   ],
   "source": [
    "# Implemente sua solução aqui.\n",
    "\n",
    "# Função usada para o teste! (Função retirada da questão 5) => x^3−7x^2+8x−0,35\n",
    "def f(x):\n",
    "    return ((x)**3)- 7*((x)**2)+ 8*(x) - 0.35\n",
    "\n",
    "# Função que implementa a derivada de acordo com a formula dada.\n",
    "def deriv(f,x,delta):\n",
    "    return (f(x + delta*x) - f(x)) / delta*x\n",
    "\n",
    "# Função que implementa o método da Secante modificada.\n",
    "def ModifiedSecant(f,x,delta,tol):\n",
    "    i = 1\n",
    "    xns = x - (f(x)/deriv(f,x,delta))\n",
    "    while abs(f(xns))>tol :\n",
    "        xns = xns - (f(xns)/deriv(f,xns,delta))\n",
    "        i = i + 1\n",
    "    return xns,i\n",
    "\n",
    "raiz,iterações = ModifiedSecant(f,0.05,0.000001,0.00000001)\n",
    "print(\"\\nRaiz da função: \",raiz)\n",
    "print(\"Iterações: \",iterações)"
   ]
  },
  {
   "cell_type": "markdown",
   "metadata": {},
   "source": [
    "## Questão 10\n",
    "\n",
    "Solucione utilizando **Python 3.X** as questões 3.23, 3.29, 3.30 e 3.33 (esta última pelos métodos do ponto fixo e de Newton) do livro *Métodos Numéricos para Engenheiros e Cientistas* de *Amos Gilat & Vish Subramaniam*. Sempre que possível suas soluções devem ser genéricas o suficiente para permitir a variação de parâmetros. Sempre que possível, enriqueça suas soluções com a utilização de gráficos, equações e textos explicativos.\n",
    "\n",
    "<div class=\"alert alert-warning\">\n",
    "**Nota**: Para resolver essa questão vocês precisarão criar uma ou mais células abaixo dessa.\n",
    "</div>"
   ]
  },
  {
   "cell_type": "code",
   "execution_count": 4,
   "metadata": {
    "collapsed": false
   },
   "outputs": [
    {
     "name": "stdout",
     "output_type": "stream",
     "text": [
      "\n",
      "Iterações:                12\n",
      "Resultado pela Bisseção:  266.4208984375\n",
      "Resultado pela fsolve():  266.4220367898403\n"
     ]
    }
   ],
   "source": [
    "# Problema 3.23\n",
    "\n",
    "import scipy.optimize as scpo\n",
    "\n",
    "#Função dada na questão, após manipulações para deixarmos em função de t, sendo t = Temperatura.\n",
    "def r(t):\n",
    "    return 100*(1+(3.90802*(10**-3))*t-(0.580195*(10**-6))*(t**2)) - 200\n",
    "\n",
    "# Implementação do Método da bisseção.\n",
    "def Bissection(f,a,b,tol):\n",
    "    an = a\n",
    "    bn = b\n",
    "    i = 1\n",
    "    xns = (an + bn)/2\n",
    "    \n",
    "    while abs(f(xns))>tol:\n",
    "        if f(an)*f(xns) < 0:\n",
    "            bn = xns\n",
    "        else:\n",
    "            an = xns\n",
    "        i = i + 1\n",
    "        xns = (an + bn)/2\n",
    "    return xns,i\n",
    "    \n",
    "bis,ite = Bissection(r,250,270,0.001)\n",
    "solv = scpo.fsolve(r,260)\n",
    "\n",
    "print(\"\\nIterações:               \",ite)\n",
    "print(\"Resultado pela Bisseção: \", bis)\n",
    "print(\"Resultado pela fsolve(): \", float(solv) ) "
   ]
  },
  {
   "cell_type": "code",
   "execution_count": 2,
   "metadata": {
    "collapsed": false
   },
   "outputs": [
    {
     "name": "stdout",
     "output_type": "stream",
     "text": [
      "Raiz da função:               43.0912032189611\n",
      "Iterações:                    3\n",
      "Raiz calculada com fsolve():  43.06811583650828\n"
     ]
    }
   ],
   "source": [
    "# Problema 3.29\n",
    "\n",
    "import math\n",
    "import scipy.optimize as scpo\n",
    "\n",
    "#Função dada na questão, após manipulações para deixarmos em função de x, sendo x = frequência.\n",
    "\n",
    "def f(x):\n",
    "    return (24/(((140**2)+(((2*math.pi*x)*260*(10**-3)) - (1/((2*math.pi*x)*25*(10**-6))))**2)**0.5) - 0.15)\n",
    "\n",
    "#Implementação do método da secante.\n",
    "def Secant(f,x1,x2,tol):\n",
    "    i = 1\n",
    "    xns = x2 - ((f(x2)*(x2-x1))/(f(x2)-f(x1)))\n",
    "    xtmp = x2\n",
    "    while abs(f(xns))>tol :\n",
    "        tmp = xns        \n",
    "        xns = xns - ((f(xns)*(xns-xtmp))/(f(xns)-f(xtmp)))\n",
    "        xtmp = tmp        \n",
    "        i = i + 1\n",
    "    return xns,i\n",
    "\n",
    "real = float(scpo.fsolve(f,40))\n",
    "raiz, iterações = Secant(f,30,50,0.0001) \n",
    "print(\"Raiz da função:              \",raiz)\n",
    "print(\"Iterações:                   \",iterações)\n",
    "print(\"Raiz calculada com fsolve(): \",real)\n",
    "\n"
   ]
  },
  {
   "cell_type": "code",
   "execution_count": 1,
   "metadata": {
    "collapsed": false
   },
   "outputs": [
    {
     "name": "stdout",
     "output_type": "stream",
     "text": [
      "\n",
      "Numero de iterações:  10\n",
      "Valor do Ponto fixo:  0.4265089718037338\n",
      "Valor fsolve()     :  0.42650897180371067\n"
     ]
    }
   ],
   "source": [
    "# Problema 3.30\n",
    "\n",
    "import scipy.optimize as scpo\n",
    "import math\n",
    "\n",
    "#Função dada na questão, após manipulações para deixarmos em função de x, sendo x = Vmp = Tensão de saída da celula solar.\n",
    "def f(x):\n",
    "    p = (1.6022 * (10**-19))/(1.3806*(10**-23)*297)\n",
    "    return math.exp(p*x)*(1+(p*x)) - math.exp(p*0.5)\n",
    "\n",
    "# Função de iteração calculada a partir de f(x)\n",
    "def g(x):\n",
    "    p = (1.6022 * (10**-19))/(1.3806*(10**-23)*297)\n",
    "    return 0.5 - (math.log(1 + p*x)/p)\n",
    "\n",
    "# Implementação do método do ponto fixo.\n",
    "def PontoFixo(f,g,x,tol):\n",
    "    i = 1\n",
    "    xns = g(x)\n",
    "    while abs(f(xns))>tol:\n",
    "        xns = g(xns)\n",
    "        i = i + 1\n",
    "    return xns,i\n",
    "    \n",
    "real = float(scpo.fsolve(f,0.5))    \n",
    "resPF, itPF = PontoFixo(f,g,0.5,0.001)\n",
    "\n",
    "print(\"\\nNumero de iterações: \",itPF)\n",
    "print(\"Valor do Ponto fixo: \",resPF)\n",
    "print(\"Valor fsolve()     : \", real)"
   ]
  },
  {
   "cell_type": "markdown",
   "metadata": {},
   "source": [
    "## Questão 11\n",
    "\n",
    "Solucione utilizando **Python 3.X** as questões 8.28, 8.30, 8.32 do livro *Métodos Numéricos para Engenharia, 5a. Ed.* de *Steven Chapra & Raymond Canale*. Sempre que possível suas soluções devem ser genéricas o suficiente para permitir a variação de parâmetros. Sempre que possível, enriqueça suas soluções com a utilização de gráficos, equações e textos explicativos.\n",
    "\n",
    "<div class=\"alert alert-warning\">\n",
    "**Nota**: Para resolver essa questão vocês precisarão criar uma ou mais células abaixo dessa.\n",
    "</div>"
   ]
  },
  {
   "cell_type": "markdown",
   "metadata": {},
   "source": [
    "----"
   ]
  },
  {
   "cell_type": "markdown",
   "metadata": {},
   "source": [
    "# Aparência do Notebook\n",
    "\n",
    "A célula abaixo contém código cuja única finalidade é modificar a aparência do notebook após a célula ser executada."
   ]
  },
  {
   "cell_type": "code",
   "execution_count": 1,
   "metadata": {
    "collapsed": false,
    "scrolled": false
   },
   "outputs": [
    {
     "data": {
      "text/html": [
       "<b style=\"font-size: 25px\">Arquivo 'styles.css' não encontrado</b>"
      ],
      "text/plain": [
       "<IPython.core.display.HTML object>"
      ]
     },
     "metadata": {},
     "output_type": "display_data"
    }
   ],
   "source": [
    "from IPython.core.display import HTML, display\n",
    "\n",
    "# O arquivo styles.css deve estar na mesma pasta que o notebook\n",
    "def css_styling():\n",
    "    try:\n",
    "        styles = open(\"./styles.css\", \"r\").read()\n",
    "        html = \"<style>{0}</style>\".format(styles)\n",
    "    except FileNotFoundError:\n",
    "        html = \"<b style=\\\"font-size: 25px\\\">Arquivo 'styles.css' não encontrado</b>\"\n",
    "    return HTML(html)\n",
    "display(css_styling())"
   ]
  }
 ],
 "metadata": {
  "anaconda-cloud": {},
  "kernelspec": {
   "display_name": "Python [Root]",
   "language": "python",
   "name": "Python [Root]"
  },
  "language_info": {
   "codemirror_mode": {
    "name": "ipython",
    "version": 3
   },
   "file_extension": ".py",
   "mimetype": "text/x-python",
   "name": "python",
   "nbconvert_exporter": "python",
   "pygments_lexer": "ipython3",
   "version": "3.5.2"
  }
 },
 "nbformat": 4,
 "nbformat_minor": 1
}
